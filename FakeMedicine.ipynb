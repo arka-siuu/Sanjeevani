{
 "cells": [
  {
   "cell_type": "code",
   "execution_count": 8,
   "id": "6b765701-0736-4f40-a75b-2918b41700ca",
   "metadata": {},
   "outputs": [
    {
     "name": "stdin",
     "output_type": "stream",
     "text": [
      "Enter entity (Manufacturer, Distributor, Wholesaler, Retailer):  Manufacturer\n",
      "Enter batch number:  123\n",
      "Enter manufacturer name:  apollo\n",
      "Enter expiry date (e.g., 2025):  2025\n"
     ]
    },
    {
     "name": "stdout",
     "output_type": "stream",
     "text": [
      "\n",
      "✅ Block 1 added successfully by Manufacturer.\n",
      "🔹 Manufacturer's Block Data: {'Batch': '123', 'Manufacturer': 'apollo', 'Expiry': '2025'}\n",
      "\n"
     ]
    },
    {
     "name": "stdin",
     "output_type": "stream",
     "text": [
      "Enter entity (Manufacturer, Distributor, Wholesaler, Retailer):  Distributor\n",
      "Enter batch number:  123\n",
      "Enter manufacturer name:  apollo\n",
      "Enter expiry date (e.g., 2025):  2025\n"
     ]
    },
    {
     "name": "stdout",
     "output_type": "stream",
     "text": [
      "\n",
      "🔹 Distributor received block from previous entity:\n",
      "   ➤ Data: {'Batch': '123', 'Manufacturer': 'apollo', 'Expiry': '2025'}\n",
      "✅ No fraud at Manufacturer level.\n",
      "✅ Block 2 added successfully by Distributor.\n",
      "\n"
     ]
    },
    {
     "name": "stdin",
     "output_type": "stream",
     "text": [
      "Enter entity (Manufacturer, Distributor, Wholesaler, Retailer):  Wholesaler\n",
      "Enter batch number:  1234\n",
      "Enter manufacturer name:  apollo\n",
      "Enter expiry date (e.g., 2025):  2025\n"
     ]
    },
    {
     "name": "stdout",
     "output_type": "stream",
     "text": [
      "\n",
      "🔹 Wholesaler received block from previous entity:\n",
      "   ➤ Data: {'Batch': '123', 'Manufacturer': 'apollo', 'Expiry': '2025'}\n",
      "✅ No fraud at Distributor level.\n",
      "❌ Fraud detected at Wholesaler level! Data modified. Block rejected.\n",
      "\n"
     ]
    }
   ],
   "source": [
    "import hashlib\n",
    "import json\n",
    "import rsa\n",
    "\n",
    "# Generate public-private keys for Manufacturer\n",
    "manufacturer_keys = rsa.newkeys(512)\n",
    "manufacturer_public_key = manufacturer_keys[0]  # Public key for verification\n",
    "manufacturer_private_key = manufacturer_keys[1]  # Private key for signing\n",
    "\n",
    "class Block:\n",
    "    def __init__(self, index, medicine_data, prev_hash, entity):\n",
    "        self.index = index\n",
    "        self.medicine_data = medicine_data  # Medicine details\n",
    "        self.prev_hash = prev_hash\n",
    "        self.hash = self.calculate_hash()  # Block hash for structure integrity\n",
    "        self.entity = entity\n",
    "        self.signature = None  # Signature from Manufacturer for medicine details\n",
    "\n",
    "    def calculate_hash(self):\n",
    "        \"\"\"Create a hash of the block (excluding the signature).\"\"\"\n",
    "        block_content = json.dumps(self.medicine_data, sort_keys=True) + self.prev_hash\n",
    "        return hashlib.sha256(block_content.encode()).hexdigest()\n",
    "\n",
    "    def sign_medicine_data(self):\n",
    "        \"\"\"Create a digital signature using the Manufacturer's private key for the medicine data only.\"\"\"\n",
    "        medicine_data_hash = hashlib.sha256(json.dumps(self.medicine_data, sort_keys=True).encode()).hexdigest()\n",
    "        self.signature = rsa.sign(medicine_data_hash.encode(), manufacturer_private_key, 'SHA-256')\n",
    "\n",
    "    def verify_signature(self):\n",
    "        \"\"\"Verify the Manufacturer's digital signature on the medicine data.\"\"\"\n",
    "        try:\n",
    "            medicine_data_hash = hashlib.sha256(json.dumps(self.medicine_data, sort_keys=True).encode()).hexdigest()\n",
    "            rsa.verify(medicine_data_hash.encode(), self.signature, manufacturer_public_key)\n",
    "            return True  # If no exception, the signature is valid\n",
    "        except rsa.VerificationError:\n",
    "            return False  # Signature is invalid\n",
    "\n",
    "# Blockchain list\n",
    "blockchain = []\n",
    "fraud_detected = False  # Flag to track if fraud has been detected\n",
    "\n",
    "def add_block(medicine_data, entity):\n",
    "    global fraud_detected\n",
    "\n",
    "    if fraud_detected:\n",
    "        print(f\"❌ Fraud detected earlier! No more blocks will be added.\\n\")\n",
    "        return  # Stop adding blocks if fraud has been detected earlier\n",
    "\n",
    "    prev_hash = blockchain[-1].hash if blockchain else \"000000\"  # Genesis block case\n",
    "\n",
    "    # Create a new block\n",
    "    new_block = Block(len(blockchain) + 1, medicine_data, prev_hash, entity)\n",
    "\n",
    "    # Manufacturer adds first block (Genesis block)\n",
    "    if entity == \"Manufacturer\":\n",
    "        new_block.sign_medicine_data()  # Manufacturer signs the medicine data only\n",
    "        blockchain.append(new_block)\n",
    "        print(f\"\\n✅ Block {new_block.index} added successfully by {entity}.\")\n",
    "        print(f\"🔹 Manufacturer's Block Data: {new_block.medicine_data}\\n\")\n",
    "        return\n",
    "\n",
    "    # For other entities, verify the received block from the previous stage\n",
    "    if blockchain:\n",
    "        received_block = blockchain[-1]  # Get the last block added\n",
    "\n",
    "        # Print received details\n",
    "        print(f\"\\n🔹 {entity} received block from previous entity:\")\n",
    "        print(f\"   ➤ Data: {received_block.medicine_data}\")\n",
    "\n",
    "        # Verify the Manufacturer's signature on the medicine data using the public key\n",
    "        if received_block.verify_signature():\n",
    "            print(f\"✅ No fraud at {received_block.entity} level.\")\n",
    "        else:\n",
    "            print(f\"❌ Fraud detected at Manufacturer level! Block rejected.\\n\")\n",
    "            fraud_detected = True  # Set the fraud flag to True\n",
    "            return\n",
    "\n",
    "        # Check if data is modified at this stage\n",
    "        if received_block.medicine_data != medicine_data:\n",
    "            print(f\"❌ Fraud detected at {entity} level! Data modified. Block rejected.\\n\")\n",
    "            fraud_detected = True  # Set the fraud flag to True\n",
    "            return\n",
    "        \n",
    "        # If everything is valid, add the new block\n",
    "        new_block.sign_medicine_data()  # Sign the new block for the next entity\n",
    "        blockchain.append(new_block)\n",
    "        print(f\"✅ Block {new_block.index} added successfully by {entity}.\\n\")\n",
    "\n",
    "\n",
    "def get_input():\n",
    "    \"\"\"Function to get user input for adding a block.\"\"\"\n",
    "    global fraud_detected\n",
    "\n",
    "    if fraud_detected:\n",
    "        print(\"❌ Fraud detected earlier. No further input will be processed.\")\n",
    "        return\n",
    "\n",
    "    # Get the entity input (e.g., Manufacturer, Distributor, Wholesaler, etc.)\n",
    "    entity = input(\"Enter entity (Manufacturer, Distributor, Wholesaler, Retailer): \").capitalize()\n",
    "\n",
    "    if entity not in [\"Manufacturer\", \"Distributor\", \"Wholesaler\", \"Retailer\"]:\n",
    "        print(\"❌ Invalid entity. Please enter a valid entity (Manufacturer, Distributor, Wholesaler, Retailer).\")\n",
    "        return\n",
    "\n",
    "    # Get the medicine details input (e.g., Batch, Manufacturer, Expiry)\n",
    "    batch = input(\"Enter batch number: \")\n",
    "    manufacturer = input(\"Enter manufacturer name: \")\n",
    "    expiry = input(\"Enter expiry date (e.g., 2025): \")\n",
    "\n",
    "    # Prepare medicine data\n",
    "    medicine_data = {\"Batch\": batch, \"Manufacturer\": manufacturer, \"Expiry\": expiry}\n",
    "\n",
    "    # Add block with provided data and entity\n",
    "    add_block(medicine_data, entity)\n",
    "\n",
    "\n",
    "# Start with the Manufacturer adding the first block\n",
    "get_input()\n",
    "\n",
    "# Other entities (Distributor, Wholesaler, Retailer) will add blocks based on user i nput\n",
    "while not fraud_detected:\n",
    "    get_input()"
   ]
  },
  {
   "cell_type": "code",
   "execution_count": null,
   "id": "6d5396d1-825a-45c5-a66a-64dc43c72b1c",
   "metadata": {},
   "outputs": [],
   "source": []
  }
 ],
 "metadata": {
  "kernelspec": {
   "display_name": "Python 3 (ipykernel)",
   "language": "python",
   "name": "python3"
  },
  "language_info": {
   "codemirror_mode": {
    "name": "ipython",
    "version": 3
   },
   "file_extension": ".py",
   "mimetype": "text/x-python",
   "name": "python",
   "nbconvert_exporter": "python",
   "pygments_lexer": "ipython3",
   "version": "3.12.6"
  }
 },
 "nbformat": 4,
 "nbformat_minor": 5
}
